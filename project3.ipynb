{
 "cells": [
  {
   "cell_type": "code",
   "execution_count": 53,
   "metadata": {},
   "outputs": [
    {
     "name": "stdout",
     "output_type": "stream",
     "text": [
      "here you are (1, 2, 3)\n"
     ]
    }
   ],
   "source": [
    "class Point3D :\n",
    "    \n",
    "    def __init__(self, x, y, z):  #we use the init method to initialize class attributes\n",
    "        self.x = x\n",
    "        self.y = y\n",
    "        self.z = z\n",
    "    \n",
    "    def test(self):\n",
    "        print(f\"here you are {(self.x,self.y,self.z)}\")\n",
    "        \n",
    "my_point = Point3D(1,2,3)   #the variable  my_point contains a new instance of Point3D\n",
    "my_point.test()             #method test is called to display the points of our object."
   ]
  },
  {
   "cell_type": "code",
   "execution_count": 54,
   "metadata": {},
   "outputs": [
    {
     "name": "stdout",
     "output_type": "stream",
     "text": [
      "the perimeter of my rectangle is  14\n",
      "the area of my rectangle is  12\n"
     ]
    }
   ],
   "source": [
    "class Rectangle:\n",
    "    def __init__(self,largeur,longueur):\n",
    "        self.largeur = largeur\n",
    "        self.longueur = longueur\n",
    "        \n",
    "        \n",
    "    def perimeter(self):            #this method allow us to calculate the perimeter of the rectangle\n",
    "        return 2*(self.longueur + self.largeur)\n",
    "    \n",
    "    def area(self):                 #this method allow us to calculate the area of the rectangle\n",
    "        return self.longueur * self.largeur\n",
    "    \n",
    "my_rectangle = Rectangle(3,4)       #the variable  my_rectangle contains a new instance of the class Rectangle\n",
    "print(\"the perimeter of my rectangle is \", my_rectangle.perimeter())   \n",
    "print(\"the area of my rectangle is \", my_rectangle.area())   "
   ]
  },
  {
   "cell_type": "code",
   "execution_count": 55,
   "metadata": {},
   "outputs": [
    {
     "name": "stdout",
     "output_type": "stream",
     "text": [
      "this is a blue car with 34 miles \n",
      "Battery Level : 66%\n",
      "Battery Level after charge: 100%\n"
     ]
    }
   ],
   "source": [
    "class Car:\n",
    "    def __init__(self, color , mileage = 0):      #we use the init method to initialize class attributes color and mileage\n",
    "        self.color = color\n",
    "        self.mileage =  mileage\n",
    "\n",
    "                                                 \n",
    "    def attribut(self):                         \n",
    "        print(f\"the color of the car is {self.color}, and the mileage is {self.mileage}\")     #this method allow us to  display the attributes\n",
    "    \n",
    "    def drive(self,battery_level= 100):                           #this method is to drive the car by reducing the battery level in relation to the distance covered  \n",
    "        self.battery_level = battery_level      \n",
    "        while True:                 \n",
    "            \n",
    "            try :                                               # the try block tests a block of code for errors.\n",
    "                mile = int(input(\"put the mileage\"))             # mile is the user input\n",
    "                \n",
    "            except ValueError :\n",
    "                print(\"Error ! you must enter the number of mileage travelled\")\n",
    "                continue                                         # the current iteration of the loop will be interrupted, but the program will return to the top of the loop.\n",
    "            \n",
    "            self.mileage += mile                                   #increment the mileage\n",
    "            self.battery_level -=  mile                            #the battery level decreases with each distance covered\n",
    "            print(f\"this is a {self.color} car with {self.mileage} miles \")         #displays the car's color and mileage\n",
    "            \n",
    "            break\n",
    "\n",
    "\n",
    "class ElectricCar (Car):                        # this is a child class who inherits the class Car\n",
    "    \n",
    "    def __init__(self,color , mileage = 0, battery_level = 100 ):           #for this class, we add an attribute battery_level which starts at 100%\n",
    "        super().__init__(color , mileage)\n",
    "        self.battery_level = battery_level \n",
    "        \n",
    "    \n",
    "    def charge(self):\n",
    "        self.battery_level  += self.mileage             #this method allow to charge the battery until 100%\n",
    "\n",
    "#clio =  Car(\"red\")  \n",
    "#print(clio.drive())\n",
    "#print(f\"battery level : {clio.battery_level}%\" )\n",
    "\n",
    "tesla = ElectricCar(\"blue\")                                 #the variable  tesla contains a new instance of the class\n",
    "tesla.drive()\n",
    "print(f\"Battery Level : {tesla.battery_level}%\")\n",
    "tesla.charge()\n",
    "print(f\"Battery Level after charge: {tesla.battery_level}%\") \n",
    "  \n",
    "        \n",
    "   "
   ]
  }
 ],
 "metadata": {
  "kernelspec": {
   "display_name": "Python 3",
   "language": "python",
   "name": "python3"
  },
  "language_info": {
   "codemirror_mode": {
    "name": "ipython",
    "version": 3
   },
   "file_extension": ".py",
   "mimetype": "text/x-python",
   "name": "python",
   "nbconvert_exporter": "python",
   "pygments_lexer": "ipython3",
   "version": "3.11.4"
  },
  "orig_nbformat": 4
 },
 "nbformat": 4,
 "nbformat_minor": 2
}
